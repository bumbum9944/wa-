{
  "nbformat": 4,
  "nbformat_minor": 0,
  "metadata": {
    "colab": {
      "name": "Untitled0.ipynb",
      "provenance": [],
      "collapsed_sections": [],
      "authorship_tag": "ABX9TyM/mWoNeaJpXWf3yXUa8m+y",
      "include_colab_link": true
    },
    "kernelspec": {
      "name": "python3",
      "display_name": "Python 3"
    }
  },
  "cells": [
    {
      "cell_type": "markdown",
      "metadata": {
        "id": "view-in-github",
        "colab_type": "text"
      },
      "source": [
        "<a href=\"https://colab.research.google.com/github/lugia574/wa-/blob/master/Untitled0.ipynb\" target=\"_parent\"><img src=\"https://colab.research.google.com/assets/colab-badge.svg\" alt=\"Open In Colab\"/></a>"
      ]
    },
    {
      "cell_type": "code",
      "metadata": {
        "id": "ixYXwROTZ5ug",
        "colab_type": "code",
        "colab": {}
      },
      "source": [
        ""
      ],
      "execution_count": 0,
      "outputs": []
    },
    {
      "cell_type": "markdown",
      "metadata": {
        "id": "mEC53GhWgFhu",
        "colab_type": "text"
      },
      "source": [
        "# 1주차 과제\n",
        "## 인공지능 제품과 서비스\n",
        "* 언어\n",
        "> 자동번역 및 통역 등을 처리해주는 '자연 언어 처리 기술'이라고 불립니다.\n",
        "\n",
        " * Attivio\n",
        " * Automated Insights\n",
        " * Lucidworks\n",
        " * Amazon Comprehend\n",
        "\n",
        "* 음성\n",
        "> 인간의 말을 받아서 컴퓨터 응용 프로그램에 유용한 형식으로 변환합니다.\n",
        "\n",
        " * SORIZAVA\n",
        " * Hey KaKAo\n",
        " * Bixby\n",
        " * Siri\n",
        "\n",
        "* 이미지\n",
        "> 이미지를 패턴으로 분류하고 학습하여 새로운 이미지가 주어질 때 이것이 무엇인지 정확하게 알아내는 기술입니다.\n",
        "\n",
        " * 안면인식 도어락\n",
        " * GAN\n",
        " * Vivino\n",
        "\n",
        "* 자율주행\n",
        "> GPS, 카메라로 주의의 환경을 인식하여 목적지를 향해 자율적으로 주행하는 기술이다.\n",
        "\n",
        " * Mecedes-Benz\n",
        " * Audi\n",
        " * Kia\n"
      ]
    }
  ]
}